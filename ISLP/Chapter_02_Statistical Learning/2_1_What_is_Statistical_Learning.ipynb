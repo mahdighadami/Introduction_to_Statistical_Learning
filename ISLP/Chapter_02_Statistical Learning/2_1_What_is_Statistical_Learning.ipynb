{
  "nbformat": 4,
  "nbformat_minor": 0,
  "metadata": {
    "colab": {
      "provenance": []
    },
    "kernelspec": {
      "name": "python3",
      "display_name": "Python 3"
    },
    "language_info": {
      "name": "python"
    }
  },
  "cells": [
    {
      "cell_type": "markdown",
      "source": [
        "<font face=\"LMRoman17-Regular\" size=10 color=\"0068b4\">\n",
        "2<br>Statistical Learning\n",
        "</font>\n",
        "</div>\n",
        "\n",
        "---\n"
      ],
      "metadata": {
        "id": "MEVpzH_Ft4GF"
      }
    },
    {
      "cell_type": "markdown",
      "source": [
        "<font face=\"LMRoman17-Regular\" size=6 color=\"0068b4\">\n",
        "2.1 What Is Statistical Learning?\n",
        "</font>\n",
        "</div>\n",
        "<br>\n",
        "\n",
        "We begin with some simple examples."
      ],
      "metadata": {
        "id": "n6xtEv1hi4Be"
      }
    },
    {
      "cell_type": "markdown",
      "source": [
        "Suppose that we want to investigate the association between advertising and sales of a particular product. The <font color='#be5100'>Advertising</font> data set consists of the <font color='#be5100'>sales</font> of that product in 200 different markets, along with advertising budgets for the product in each of those markets for three different media: <font color='#be5100'>TV</font>, <font color='#be5100'>radio</font>, and <font color='#be5100'>newspaper</font>.\n",
        "<br><br>\n",
        "\n",
        "<div>\n",
        "<img src=\"https://drive.google.com/uc?export=view&id=1Lj0qxysxwnOrqO3W7rAaJdznTtW4u6LF\" width=\"80%\"/>\n",
        "</div>\n",
        "<br><br>\n",
        "\n",
        "If we determine that there is an association between advertising and sales, then we can adjust advertising budgets, thereby indirectly increasing sales.\n",
        "\n",
        "## Input and Output Variables:\n",
        "In the example mentioned, the advertising budgets are **input variables** while\n",
        "<font color='#be5100'>sales</font> is an **output variable**. The input variables are typically denoted using the symbol $X$, with a subscript to distinguish them.So $X_1$ might be the <font color='#be5100'>TV</font> budget, $X_2$ the <font color='#be5100'>radio</font> budget, and $X_3$ the <font color='#be5100'>newspaper</font> budget.\n",
        "\n",
        "The inputs go by different names, such as **predictors**, **independent variables**, **features**, or sometimes just **variables**.\n",
        "\n",
        "The output variable—in this case, <font color='#be5100'>sales</font>—is often called the **response** or **dependent variable**, and is typically denoted using the symbol $Y$. Throughout this book, we will use all of these terms  interchangeably\n",
        "\n",
        "More generally, suppose that we observe a quantitative response $Y$ and $p$ different predictors, $X_1, X_2, ..., X_p$. We assume that there is some relationship between $Y$ and $X = (X_1, X_2, ..., X_p)$, which can be written in the very general form\n",
        "\n",
        "$$Y = f(X) + \\epsilon$$\n",
        "\n",
        "Here $f$ is some fixed but unknown function of $X_1, ..., X_p$, and $ϵ$ is a random error term, which is independent of $X$ and has mean zero. In this formulation, f represents the systematic information that X provides about $Y$."
      ],
      "metadata": {
        "id": "oOb5E9826dRs"
      }
    },
    {
      "cell_type": "markdown",
      "source": [
        "As another example, consider the left-hand panel of Figure below, a plot of <font color='#be5100'>income</font> versus <font color='#be5100'>years of education</font> for 30 individuals in the <font color='#be5100'>Income</font> data set.\n",
        "<div>\n",
        "<img src=\"https://drive.google.com/uc?export=view&id=1rITFzpUCh9aMiBctBiIoPwiPqtAAU8kk\" width=\"70%\"/>\n",
        "</div>\n",
        "<br><br>\n",
        "\n",
        "The function $f$ that connects the input variable to the output variable is in general unknown. In this situation, one must estimate $f$ based on the observed points. Since <font color='#be5100'>Income</font> is a simulated data set, $f$ is known and is shown by the blue curve in the right-hand panel of the figure.\n",
        "The vertical lines represent the error terms $ϵ$. The errors have approximately mean zero."
      ],
      "metadata": {
        "id": "VRH2XLbzECZs"
      }
    },
    {
      "cell_type": "markdown",
      "source": [
        "In general, the function $f$ may involve more than one input variable. In the figure below, we plot <font color='#be5100'>income</font> as a function of <font color='#be5100'>years of education</font> and <font color='#be5100'>seniority</font>.\n",
        "\n",
        "<br>\n",
        "<div>\n",
        "<img src=\"https://drive.google.com/uc?export=view&id=1z4Qb4ufR0ofz3X7VJF62AAFWT_LSDIZG\" width=\"50%\"/>\n",
        "</div>\n",
        "<br>\n",
        "\n",
        "The blue surface represents the true underlying relationship between <font color='#be5100'>income</font> and <font color='#be5100'>years of education</font> and <font color='#be5100'>seniority</font>, which is known since the data are simulated. The red dots indicate the observed values of these quantities for 30 individuals.\n",
        "\n",
        "=> In essence, statistical learning refers to a set of approaches for estimating $f$.\n"
      ],
      "metadata": {
        "id": "SDLJoPSrEzgR"
      }
    }
  ]
}