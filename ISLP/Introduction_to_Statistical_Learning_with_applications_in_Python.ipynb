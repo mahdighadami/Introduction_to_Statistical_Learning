{
  "nbformat": 4,
  "nbformat_minor": 0,
  "metadata": {
    "colab": {
      "provenance": [],
      "authorship_tag": "ABX9TyMyB8+zAKoLd+xXjcxB3vE8",
      "include_colab_link": true
    },
    "kernelspec": {
      "name": "python3",
      "display_name": "Python 3"
    },
    "language_info": {
      "name": "python"
    }
  },
  "cells": [
    {
      "cell_type": "markdown",
      "metadata": {
        "id": "view-in-github",
        "colab_type": "text"
      },
      "source": [
        "<a href=\"https://colab.research.google.com/github/mahdighadami/Introduction_to_Statistical_Learning/blob/main/Introduction_to_Statistical_Learning_with_applications_in_Python.ipynb\" target=\"_parent\"><img src=\"https://colab.research.google.com/assets/colab-badge.svg\" alt=\"Open In Colab\"/></a>"
      ]
    },
    {
      "cell_type": "markdown",
      "source": [
        "<div align=right style=\"margin-left:-10%; margin-top:5%\">\n",
        "<font face=\"Arial\" size=5>\n",
        "Gareth James . Daniela Witten . Trevor Hastie<br>Robert Tibshirani . Jonathan Taylor\n",
        "</font>\n",
        "</div>\n",
        "<br><br>\n",
        "<div align=left style=\"margin-left:10%\">\n",
        "<font face=\"Arial\" size=10>\n",
        "An Introduction<br>to Statistical Learning\n",
        "</font>\n",
        "<br>\n",
        "<font face=\"Arial\" size=5>\n",
        "with Applications in Python\n",
        "</font>\n",
        "</div>\n",
        "\n",
        "---"
      ],
      "metadata": {
        "id": "i310H2de13AD"
      }
    },
    {
      "cell_type": "markdown",
      "source": [
        "# Preface"
      ],
      "metadata": {
        "id": "tSaSR4fqjxuX"
      }
    },
    {
      "cell_type": "markdown",
      "source": [
        "<font face=\"Arial\" size=4>Statistical learning refers to a set of tools for <font face=\"vijaya\" size=5>making sense of complex datasets</font>. In recent years, we have seen a staggering increase in the scale and scope of data collection across virtually all areas of science and industry. As a result, statistical learning has become a critical toolkit for anyone who wishes to understand data — and as more and more of today’s jobs involve data, this means that statistical learning is fast becoming a critical toolkit for <font face=\"vijaya\" size=5>everyone</font>.\n",
        "\n",
        "<font face=\"vijaya\" size=5>An Introduction to Statistical Learning, With Applications in R</font> <font face=\"Arial\" size=4>(ISLR) arose from the clear need for a broader and less technical treatment of the key topics in statistical learning.\n",
        "\n",
        "In recent years *Python* has become an increasingly popular language for data science, and there has been increasing demand for a Python-based alternative to ISLR. Hence, this book,</font><font face=\"vijaya\" size=5> An Introduction to Statistical Learning, With Applications in Python </font> <font face=\"Arial\" size=4>(ISLP), covers the same materials as ISLR but with labs implemented in Python — a feat accomplished by the addition of a new co-author, Jonathan Taylor.</font>\n",
        "\n",
        "---\n"
      ],
      "metadata": {
        "id": "WV5fiFJinOO3"
      }
    },
    {
      "cell_type": "markdown",
      "source": [
        "# Contents\n",
        "\n",
        "1. Introduction\n",
        "2. Statistical Learning\n",
        "3. Linear Regression\n",
        "4. Classification\n",
        "5. Resampling Methods\n",
        "6. Linear Model Selection and Regularization\n",
        "7. Moving Beyond Linearity\n",
        "8. Tree-Based Methods\n",
        "9. Support Vector Machines\n",
        "10. Deep Learning\n",
        "11. Survival Analysis and Censored Data\n",
        "12. Unsupervised Learning\n",
        "13. Multiple Testing"
      ],
      "metadata": {
        "id": "y4lMaOtHDvds"
      }
    },
    {
      "cell_type": "code",
      "source": [],
      "metadata": {
        "id": "xBryPgHmDyh2"
      },
      "execution_count": null,
      "outputs": []
    }
  ]
}