{
  "nbformat": 4,
  "nbformat_minor": 0,
  "metadata": {
    "colab": {
      "provenance": []
    },
    "kernelspec": {
      "name": "python3",
      "display_name": "Python 3"
    },
    "language_info": {
      "name": "python"
    }
  },
  "cells": [
    {
      "cell_type": "markdown",
      "source": [
        "<div align=left style=\"margin-left:10%; margin-top:5%\">\n",
        "<font face=\"LMRoman17-Regular\" size=10 color=\"0068b4\">\n",
        "1<br>Introduction\n",
        "</font>\n",
        "</div>\n",
        "\n",
        "---\n"
      ],
      "metadata": {
        "id": "ct8PL2hWysi9"
      }
    },
    {
      "cell_type": "markdown",
      "source": [
        "# An Overview of Statistical Learning\n",
        "\n"
      ],
      "metadata": {
        "id": "N91NX9XV_9wS"
      }
    },
    {
      "cell_type": "code",
      "source": [],
      "metadata": {
        "id": "JQajLHhx__Yb"
      },
      "execution_count": null,
      "outputs": []
    }
  ]
}